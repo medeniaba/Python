{
 "cells": [
  {
   "cell_type": "code",
   "execution_count": 1,
   "id": "8ab4402c",
   "metadata": {},
   "outputs": [
    {
     "name": "stdout",
     "output_type": "stream",
     "text": [
      "Tyler\n",
      "Blake\n",
      "Copy\n",
      "Cameron\n"
     ]
    }
   ],
   "source": [
    "#Enumerated'i for kısmına yazdıgımızda output çıktının index sırasını yazdırmaya yarar .\n",
    "\n",
    "adlar = ['Tyler','Blake','Copy','Cameron']\n",
    "for e in adlar : \n",
    "    print(e)"
   ]
  },
  {
   "cell_type": "code",
   "execution_count": 7,
   "id": "b0b35f29",
   "metadata": {},
   "outputs": [
    {
     "name": "stdout",
     "output_type": "stream",
     "text": [
      "0 indisinde -->  Tyler\n",
      "1 indisinde -->  Blake\n",
      "2 indisinde -->  Copy\n",
      "3 indisinde -->  Cameron\n"
     ]
    }
   ],
   "source": [
    "for i,e in enumerate(adlar):\n",
    "    print(i,\"indisinde --> \",  e)"
   ]
  },
  {
   "cell_type": "code",
   "execution_count": 9,
   "id": "026ee13b",
   "metadata": {},
   "outputs": [
    {
     "name": "stdout",
     "output_type": "stream",
     "text": [
      "1  . lokasyonunda bulunan eleman: Tyler\n",
      "2  . lokasyonunda bulunan eleman: Blake\n",
      "3  . lokasyonunda bulunan eleman: Copy\n",
      "4  . lokasyonunda bulunan eleman: Cameron\n"
     ]
    }
   ],
   "source": [
    "for i , e in enumerate(adlar , start = 1):\n",
    "    print(i , \" . lokasyonunda bulunan eleman:\",e )"
   ]
  },
  {
   "cell_type": "code",
   "execution_count": 14,
   "id": "649a297d",
   "metadata": {},
   "outputs": [
    {
     "data": {
      "text/plain": [
       "{'isim': 'Deniz',\n",
       " 'soyad': 'Ötekıvılcım',\n",
       " 'ülke': 'Azerbaycan',\n",
       " 'is': 'Nİkah Memuru'}"
      ]
     },
     "execution_count": 14,
     "metadata": {},
     "output_type": "execute_result"
    }
   ],
   "source": [
    "# zip() 2 farklı listeyi birşeltirmeye yarayan bir fonksiyondur \n",
    "\n",
    "keys = ['isim','soyad','ülke','is']\n",
    "values = ['Deniz','Ötekıvılcım','Azerbaycan','Nİkah Memuru']\n",
    "d ={}\n",
    "\n",
    "for k,v in zip(keys,values):\n",
    "    \n",
    "    d[k] = v \n",
    "\n",
    "d    \n"
   ]
  },
  {
   "cell_type": "code",
   "execution_count": 17,
   "id": "cb951539",
   "metadata": {},
   "outputs": [
    {
     "name": "stdout",
     "output_type": "stream",
     "text": [
      "True\n"
     ]
    }
   ],
   "source": [
    "\n",
    "#Exercies 3 \n",
    "\n",
    "a = [] and 2 \n",
    "print(not a)"
   ]
  },
  {
   "cell_type": "code",
   "execution_count": null,
   "id": "edbe9006",
   "metadata": {},
   "outputs": [],
   "source": []
  }
 ],
 "metadata": {
  "kernelspec": {
   "display_name": "Python 3 (ipykernel)",
   "language": "python",
   "name": "python3"
  },
  "language_info": {
   "codemirror_mode": {
    "name": "ipython",
    "version": 3
   },
   "file_extension": ".py",
   "mimetype": "text/x-python",
   "name": "python",
   "nbconvert_exporter": "python",
   "pygments_lexer": "ipython3",
   "version": "3.10.9"
  }
 },
 "nbformat": 4,
 "nbformat_minor": 5
}
